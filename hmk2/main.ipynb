{
 "cells": [
  {
   "cell_type": "markdown",
   "id": "3fd90825",
   "metadata": {},
   "source": [
    "# Network Science 2024/2025\n",
    "## Homework 2\n",
    "\n",
    "**Authors:**  \n",
    "- Adriano Machado (202105352)  \n",
    "- Francisco da Ana (202108762)  \n",
    "- João Lima (202108891)"
   ]
  },
  {
   "cell_type": "markdown",
   "id": "78ac83a3",
   "metadata": {},
   "source": [
    "### **Link Analysis and PageRank**"
   ]
  },
  {
   "cell_type": "markdown",
   "id": "f1ea939e",
   "metadata": {},
   "source": [
    "#### Exercise 1"
   ]
  },
  {
   "cell_type": "markdown",
   "id": "ba035573",
   "metadata": {},
   "source": [
    "#### Exercise 2"
   ]
  },
  {
   "cell_type": "markdown",
   "id": "26e1f739",
   "metadata": {},
   "source": [
    "#### Exercise 3"
   ]
  },
  {
   "cell_type": "markdown",
   "id": "9deb76cd",
   "metadata": {},
   "source": [
    "#### Exercise 4"
   ]
  },
  {
   "cell_type": "markdown",
   "id": "4c2be6ff",
   "metadata": {},
   "source": [
    "#### Exercise 5 a)"
   ]
  },
  {
   "cell_type": "markdown",
   "id": "fb987700",
   "metadata": {},
   "source": [
    "#### Exercise 5 b)"
   ]
  },
  {
   "cell_type": "markdown",
   "id": "3461711a",
   "metadata": {},
   "source": [
    "### **Community Discovery**"
   ]
  },
  {
   "cell_type": "markdown",
   "id": "74c2cb9e",
   "metadata": {},
   "source": [
    "#### Exercise 6 a)"
   ]
  },
  {
   "cell_type": "markdown",
   "id": "712019ff",
   "metadata": {},
   "source": [
    "#### Exercise 6 b)"
   ]
  },
  {
   "cell_type": "markdown",
   "id": "a888a4f4",
   "metadata": {},
   "source": [
    "#### Exercise 6 c)"
   ]
  },
  {
   "cell_type": "markdown",
   "id": "532b8b59",
   "metadata": {},
   "source": [
    "#### Exercise 6 d)"
   ]
  },
  {
   "cell_type": "markdown",
   "id": "5e6e7c88",
   "metadata": {},
   "source": [
    "#### Exercise 6 e)"
   ]
  },
  {
   "cell_type": "markdown",
   "id": "ababd598",
   "metadata": {},
   "source": [
    "### **Network Motifs**"
   ]
  },
  {
   "cell_type": "markdown",
   "id": "aa1bdcf4",
   "metadata": {},
   "source": [
    "#### Exercise 7 a)"
   ]
  },
  {
   "cell_type": "markdown",
   "id": "9225eec2",
   "metadata": {},
   "source": [
    "#### Exercise 7 b)"
   ]
  },
  {
   "cell_type": "markdown",
   "id": "98601441",
   "metadata": {},
   "source": [
    "#### Exercise 7 c)"
   ]
  },
  {
   "cell_type": "markdown",
   "id": "771203fd",
   "metadata": {},
   "source": [
    "#### Exercise 7 d)"
   ]
  },
  {
   "cell_type": "markdown",
   "id": "194880e5",
   "metadata": {},
   "source": [
    "#### Exercise 7 e)"
   ]
  }
 ],
 "metadata": {
  "language_info": {
   "name": "python"
  }
 },
 "nbformat": 4,
 "nbformat_minor": 5
}
